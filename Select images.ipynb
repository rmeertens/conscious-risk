{
 "cells": [
  {
   "cell_type": "code",
   "execution_count": 1,
   "metadata": {},
   "outputs": [],
   "source": [
    "import json\n",
    "import matplotlib.pyplot as plt\n",
    "from shapely.geometry import Polygon\n",
    "import tqdm"
   ]
  },
  {
   "cell_type": "code",
   "execution_count": 2,
   "metadata": {},
   "outputs": [],
   "source": [
    "with open('labels/bdd100k_labels_images_train.json') as json_file:\n",
    "    data = json.load(json_file)"
   ]
  },
  {
   "cell_type": "code",
   "execution_count": 3,
   "metadata": {},
   "outputs": [
    {
     "data": {
      "text/plain": [
       "69863"
      ]
     },
     "execution_count": 3,
     "metadata": {},
     "output_type": "execute_result"
    }
   ],
   "source": [
    "print(\"Total images in the training dataset: \", len(data))"
   ]
  },
  {
   "cell_type": "code",
   "execution_count": 4,
   "metadata": {
    "scrolled": false
   },
   "outputs": [
    {
     "name": "stderr",
     "output_type": "stream",
     "text": [
      "100%|██████████| 69863/69863 [20:07<00:00, 57.87it/s]\n"
     ]
    }
   ],
   "source": [
    "for datapoint in tqdm.tqdm(data):\n",
    "    image = plt.imread('images/100k/train/'+datapoint['name'])\n",
    "    drivable_polygons = list()\n",
    "    pedestrian_polygons = list()\n",
    "    \n",
    "    for label in datapoint['labels']:\n",
    "        if label['category'] in ['person']:\n",
    "            polygon = Polygon([(label['box2d']['x1'], label['box2d']['y1']),\n",
    "                               (label['box2d']['x1'], label['box2d']['y2']),\n",
    "                               (label['box2d']['x2'], label['box2d']['y2']),\n",
    "                               (label['box2d']['x2'], label['box2d']['y1']),\n",
    "                              ])\n",
    "            pedestrian_polygons.append(polygon)\n",
    "        if label['category'] in ['drivable area']:\n",
    "            polygon = Polygon(label['poly2d'][0]['vertices'])\n",
    "            drivable_polygons.append(polygon)\n",
    "        \n",
    "    intersects_drivable = False\n",
    "    for pedestrian in pedestrian_polygons: \n",
    "        for drivable in drivable_polygons: \n",
    "            intersects_drivable = pedestrian.intersects(drivable) or intersects_drivable\n",
    "\n",
    "    if intersects_drivable:\n",
    "        !cp {'images/100k/train/'+datapoint['name']} crossing/unlabeled\n",
    "        \n",
    "        # untoggle this code to visualise the image and how it intersects\n",
    "#         plt.figure()\n",
    "#         plt.imshow(image)\n",
    "        \n",
    "#         for polygon1 in drivable_polygons: \n",
    "#             plt.plot(*polygon1.exterior.xy, c='red')\n",
    "#         for polygon1 in pedestrian_polygons: \n",
    "#             plt.plot(*polygon1.exterior.xy, c='green')\n",
    "\n",
    "#         plt.show()\n"
   ]
  },
  {
   "cell_type": "code",
   "execution_count": null,
   "metadata": {},
   "outputs": [],
   "source": []
  }
 ],
 "metadata": {
  "kernelspec": {
   "display_name": "Python 3",
   "language": "python",
   "name": "python3"
  },
  "language_info": {
   "codemirror_mode": {
    "name": "ipython",
    "version": 3
   },
   "file_extension": ".py",
   "mimetype": "text/x-python",
   "name": "python",
   "nbconvert_exporter": "python",
   "pygments_lexer": "ipython3",
   "version": "3.7.2"
  }
 },
 "nbformat": 4,
 "nbformat_minor": 2
}
